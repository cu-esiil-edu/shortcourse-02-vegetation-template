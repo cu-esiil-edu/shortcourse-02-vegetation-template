{
  "cells": [
    {
      "cell_type": "markdown",
      "metadata": {},
      "source": [
        "# Vegetation Data Access\n",
        "\n",
        "Accessing NDVI data\n",
        "\n",
        "# STEP 2: AppEEARS API\n",
        "\n",
        "# STEP 0: Set up\n",
        "\n",
        "To get started on this notebook, you’ll need to restore any variables\n",
        "from previous notebooks to your workspace. To save time and memory, make\n",
        "sure to specify which variables you want to load."
      ],
      "id": "a4bf27e2-43c8-485c-b53f-aab8f8a60eb0"
    },
    {
      "cell_type": "code",
      "execution_count": 1,
      "metadata": {},
      "outputs": [],
      "source": [
        "%store -r"
      ],
      "id": "af70fc45"
    },
    {
      "cell_type": "markdown",
      "metadata": {},
      "source": [
        "You will also need to import any libraries you are using in this\n",
        "notebook, since they won’t carry over from the previous notebook:"
      ],
      "id": "29b6e704-07b6-47d2-bba2-119702de1172"
    },
    {
      "cell_type": "code",
      "execution_count": 2,
      "metadata": {},
      "outputs": [],
      "source": [
        "# Import libraries"
      ],
      "id": "e45be4c1"
    },
    {
      "cell_type": "markdown",
      "metadata": {},
      "source": [
        "## Exploring the AppEEARS API for NASA Earthdata access\n",
        "\n",
        "Before you get started with the data download today, you will need a\n",
        "free [NASA Earthdata account](https://urs.earthdata.nasa.gov/home) if\n",
        "you don’t have one already!\n",
        "\n",
        "Over the next four cells, you will download MODIS NDVI data for the\n",
        "study period. MODIS is a multispectral instrument that measures Red and\n",
        "NIR data (and so can be used for NDVI). There are two MODIS sensors on\n",
        "two different platforms: satellites Terra and Aqua.\n",
        "\n",
        "<link rel=\"stylesheet\" type=\"text/css\" href=\"./assets/styles.css\"><div class=\"callout callout-style-default callout-titled callout-read\"><div class=\"callout-header\"><div class=\"callout-icon-container\"><i class=\"callout-icon\"></i></div><div class=\"callout-title-container flex-fill\">Read More</div></div><div class=\"callout-body-container callout-body\"><p><a href=\"https://modis.gsfc.nasa.gov/\">Learn more about MODIS\n",
        "datasets and the science they support</a></p></div></div>\n",
        "\n",
        "Since we’re asking for a special download that only covers our study\n",
        "area, we can’t just find a link to the data - we have to negotiate with\n",
        "the data server. We’re doing this using the\n",
        "[APPEEARS](https://appeears.earthdatacloud.nasa.gov/api/) API\n",
        "(Application Programming Interface). The API makes it possible for you\n",
        "to request data using code. You can use code from the `earthpy` library\n",
        "to handle the API request.\n",
        "\n",
        "<link rel=\"stylesheet\" type=\"text/css\" href=\"./assets/styles.css\"><div class=\"callout callout-style-default callout-titled callout-task\"><div class=\"callout-header\"><div class=\"callout-icon-container\"><i class=\"callout-icon\"></i></div><div class=\"callout-title-container flex-fill\">Try It</div></div><div class=\"callout-body-container callout-body\"><p>Often when we want to do something more complex in coding we find an\n",
        "example and modify it. This download code is already almost a working\n",
        "example. Your task will be:</p>\n",
        "<ol type=\"1\">\n",
        "<li>Replace the start and end dates in the task parameters. Download\n",
        "data from July, when greenery is at its peak in the Northern\n",
        "Hemisphere.</li>\n",
        "<li>Replace the year range. You should get 3 years before and after the\n",
        "event so you can see the change!</li>\n",
        "<li>Replace <code>gdf</code> with the name of <strong>your</strong> site\n",
        "geodataframe.</li>\n",
        "<li><strong>Enter your NASA Earthdata username and password when\n",
        "prompted.</strong> The prompts can be a little hard to see – look at the\n",
        "top of your screen!</li>\n",
        "</ol></div></div>\n",
        "\n",
        "<link rel=\"stylesheet\" type=\"text/css\" href=\"./assets/styles.css\"><div class=\"callout callout-style-default callout-titled callout-respond\"><div class=\"callout-header\"><div class=\"callout-icon-container\"><i class=\"callout-icon\"></i></div><div class=\"callout-title-container flex-fill\">Reflect and Respond</div></div><div class=\"callout-body-container callout-body\"><p>What would the product and layer name be if you were trying to\n",
        "download Landsat Surface Temperature Analysis Ready Data (ARD) instead\n",
        "of MODIS NDVI?</p></div></div>\n",
        "\n",
        "> **Important**\n",
        ">\n",
        "> It can take some time for Appeears to process your request - anything\n",
        "> from a few minutes to a few hours depending on how busy they are. You\n",
        "> can check your progress by:\n",
        ">\n",
        "> 1.  Going to the [Appeears\n",
        ">     webpage](https://appeears.earthdatacloud.nasa.gov/)\n",
        "> 2.  Clicking the `Explore` tab\n",
        "> 3.  Logging in with your Earthdata account"
      ],
      "id": "a7a3fc1f-8b05-4eed-ac61-7f6a6949d7c2"
    },
    {
      "cell_type": "code",
      "execution_count": 3,
      "metadata": {
        "template": "student"
      },
      "outputs": [],
      "source": [
        "# Initialize AppeearsDownloader for MODIS NDVI data\n",
        "ndvi_downloader = eaapp.AppeearsDownloader(\n",
        "    download_key=download_key,\n",
        "    ea_dir=project.project_dir,\n",
        "    product='MOD13Q1.061',\n",
        "    layer='_250m_16_days_NDVI',\n",
        "    start_date=\"01-01\",\n",
        "    end_date=\"01-31\",\n",
        "    recurring=True,\n",
        "    year_range=[, ],\n",
        "    polygon=gdf\n",
        ")\n",
        "# Download the prepared download -- this can take some time!\n",
        "ndvi_downloader.download_files(cache=True)"
      ],
      "id": "c683b736"
    },
    {
      "cell_type": "markdown",
      "metadata": {},
      "source": [
        "## Putting it together: Working with multi-file raster datasets in Python\n",
        "\n",
        "Now you need to load all the downloaded files into Python. You may have\n",
        "noticed that the \\`earthpy.appears module gives us all the downloaded\n",
        "file names…but only some of those are the NDVI files we want while\n",
        "others are quality files that tell us about the confidence in the\n",
        "dataset. For now, the files we want all have “NDVI” in the name.\n",
        "\n",
        "Let’s start by getting all the NDVI file names. You will also need to\n",
        "extract the date from the filename. Check out [the lesson on getting\n",
        "information from filenames in the\n",
        "textbook](https://www.earthdatascience.org/courses/intro-to-earth-data-science/write-efficient-python-code/loops/data-workflows-with-loops/).\n",
        "We’re using a slightly different method here (the `.rglob()` or\n",
        "**recursive** glob method, which searchs all the directories nested\n",
        "inside the path), but the principle is the same.\n",
        "\n",
        "> **GOTCHA ALERT!**\n",
        ">\n",
        "> `glob` doesn’t necessarily find files in the order you would expect.\n",
        "> Make sure to **sort** your file names like it says in the textbook."
      ],
      "id": "ee854f89-5bec-4861-a876-58ba2bf029f7"
    },
    {
      "cell_type": "code",
      "execution_count": 5,
      "metadata": {
        "template": "student"
      },
      "outputs": [],
      "source": [
        "# Get a sorted list of NDVI tif file paths\n",
        "ndvi_paths = sorted(list(project.project_dir.rglob('ndvi-pattern')))\n",
        "\n",
        "# Display the first and last three files paths to check the pattern\n",
        "ndvi_paths[:3], ndvi_paths[-3:]"
      ],
      "id": "8ecba4d3"
    },
    {
      "cell_type": "markdown",
      "metadata": {},
      "source": [
        "### Repeating tasks in Python\n",
        "\n",
        "Now you should have a few dozen files! For each file, you need to:\n",
        "\n",
        "-   Load the file in using the `rioxarray` library\n",
        "-   Get the date from the file name\n",
        "-   Add the date as a dimension coordinate\n",
        "-   Give your data variable a name\n",
        "\n",
        "You don’t want to write out the code for each file! That’s a recipe for\n",
        "**copy pasta** and errors. Luckily, Python has tools for doing similar\n",
        "tasks repeatedly. In this case, you’ll use one called a `for` loop.\n",
        "\n",
        "There’s some code below that uses a `for` loop in what is called an\n",
        "**accumulation pattern** to process each file. That means that you will\n",
        "save the results of your processing to a list each time you process the\n",
        "files, and then merge all the arrays in the list.\n",
        "\n",
        "<link rel=\"stylesheet\" type=\"text/css\" href=\"./assets/styles.css\"><div class=\"callout callout-style-default callout-titled callout-task\"><div class=\"callout-header\"><div class=\"callout-icon-container\"><i class=\"callout-icon\"></i></div><div class=\"callout-title-container flex-fill\">Try It</div></div><div class=\"callout-body-container callout-body\"><ul>\n",
        "<li>Look at the file names. How many characters from the end is the\n",
        "date? <code>doy_start</code> and <code>doy_end</code> are used to\n",
        "extract the day of the year (doy) from the file name. You will need to\n",
        "count characters from the end and change the values to get the right\n",
        "part of the file name. HINT: the index -1 in Python means the last\n",
        "value, -2 second-to-last, and so on.</li>\n",
        "<li>Replace any required variable names with your chosen variable\n",
        "names</li>\n",
        "</ul></div></div>"
      ],
      "id": "db7e82d0-7cf2-4c3d-9be9-16a8a2485196"
    },
    {
      "cell_type": "code",
      "execution_count": 7,
      "metadata": {
        "template": "student"
      },
      "outputs": [],
      "source": [
        "doy_start = -1\n",
        "doy_end = -1\n",
        "\n",
        "# Loop through each NDVI image\n",
        "ndvi_das = []\n",
        "for ndvi_path in ndvi_paths:\n",
        "    # Get date from file name\n",
        "\n",
        "    # Open dataset\n",
        "\n",
        "    # Add date dimension and clean up metadata\n",
        "    da = da.assign_coords({'date': date})\n",
        "    da = da.expand_dims({'date': 1})\n",
        "    da.name = 'NDVI'\n",
        "\n",
        "    # Prepare for concatenation"
      ],
      "id": "be5549c0"
    },
    {
      "cell_type": "markdown",
      "metadata": {},
      "source": [
        "<link rel=\"stylesheet\" type=\"text/css\" href=\"./assets/styles.css\"><div class=\"callout callout-style-default callout-titled callout-task\"><div class=\"callout-header\"><div class=\"callout-icon-container\"><i class=\"callout-icon\"></i></div><div class=\"callout-title-container flex-fill\">Try It</div></div><div class=\"callout-body-container callout-body\"><p>Next, stack your arrays by date into a time series:</p>\n",
        "<ol type=\"1\">\n",
        "<li>Modify the code to match your prior workflow steps and to use\n",
        "descriptive variable names</li>\n",
        "<li>Replace <code>coordinate_name</code> with the actual name of the\n",
        "coordinate you want to build up.</li>\n",
        "</ol></div></div>"
      ],
      "id": "fa5a1f58-1646-415e-95ce-20cc473b22da"
    },
    {
      "cell_type": "code",
      "execution_count": 9,
      "metadata": {
        "template": "student"
      },
      "outputs": [],
      "source": [
        "# Combine NDVI images from all dates\n",
        "da = xr.combine_by_coords(list_of_data_arrays, coords=['coordinate_name'])\n",
        "da"
      ],
      "id": "c82c504d"
    },
    {
      "cell_type": "markdown",
      "metadata": {},
      "source": [
        "# STEP -1: Wrap up\n",
        "\n",
        "Don’t forget to store your variables so you can use them in other\n",
        "notebooks! Replace `var1` and `var2` with the variable you want to save,\n",
        "separated by spaces."
      ],
      "id": "f83149cc-0323-4c47-8e6b-fcc5f927847a"
    },
    {
      "cell_type": "code",
      "execution_count": 12,
      "metadata": {},
      "outputs": [],
      "source": [
        "%store var1 var2"
      ],
      "id": "1be68aa3"
    },
    {
      "cell_type": "markdown",
      "metadata": {},
      "source": [
        "Finally, be sure to `Restart` and `Run all` to make sure your notebook\n",
        "works all the way through!"
      ],
      "id": "eefca669-6b13-4895-a683-78708313113a"
    }
  ],
  "nbformat": 4,
  "nbformat_minor": 5,
  "metadata": {
    "kernelspec": {
      "name": "learning-portal",
      "display_name": "Learning Portal",
      "language": "python"
    },
    "language_info": {
      "name": "python",
      "codemirror_mode": {
        "name": "ipython",
        "version": "3"
      },
      "file_extension": ".py",
      "mimetype": "text/x-python",
      "nbconvert_exporter": "python",
      "pygments_lexer": "ipython3",
      "version": "3.11.13"
    }
  }
}