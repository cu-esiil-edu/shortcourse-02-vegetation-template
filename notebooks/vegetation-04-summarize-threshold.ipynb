{
  "cells": [
    {
      "cell_type": "markdown",
      "metadata": {},
      "source": [
        "# Water Rights Restored to the Gila River\n",
        "\n",
        "The impacts of irrigation on vegetation health in the Gila River Valley\n",
        "\n",
        "Elsa Culler  \n",
        "Nate Quarderer  \n",
        "2025-07-09\n",
        "\n",
        "# STEP 0: Set up\n",
        "\n",
        "To get started on this notebook, you’ll need to restore any variables\n",
        "from previous notebooks to your workspace. To save time and memory, make\n",
        "sure to specify which variables you want to load."
      ],
      "id": "76cf7253-c2bc-46dd-8611-14e9130a53be"
    },
    {
      "cell_type": "code",
      "execution_count": 1,
      "metadata": {},
      "outputs": [],
      "source": [
        "%store -r"
      ],
      "id": "5de6c9a7"
    },
    {
      "cell_type": "markdown",
      "metadata": {},
      "source": [
        "You will also need to import any libraries you are using in this\n",
        "notebook, since they won’t carry over from the previous notebook:"
      ],
      "id": "a2c0d920-8c49-4940-8499-9454010cff8b"
    },
    {
      "cell_type": "code",
      "execution_count": 2,
      "metadata": {},
      "outputs": [],
      "source": [
        "# Import libraries"
      ],
      "id": "d62e5c55"
    },
    {
      "cell_type": "markdown",
      "metadata": {},
      "source": [
        "# STEP 4: Is the NDVI different after the groundwater irrigation?\n",
        "\n",
        "You will apply an NDVI threshold and determine how many pixels have\n",
        "healthy vegetation. You can then look at the growth of vegetation over\n",
        "time.\n",
        "\n",
        "<link rel=\"stylesheet\" type=\"text/css\" href=\"./assets/styles.css\"><div class=\"callout callout-style-default callout-titled callout-task\"><div class=\"callout-header\"><div class=\"callout-icon-container\"><i class=\"callout-icon\"></i></div><div class=\"callout-title-container flex-fill\">Try It</div></div><div class=\"callout-body-container callout-body\"><ul>\n",
        "<li>Apply an NDVI threshold to identify pixels with healthy\n",
        "vegetation</li>\n",
        "<li>Check that your threshold worked</li>\n",
        "</ul></div></div>"
      ],
      "id": "920f56ca-7d5e-4f83-a201-83f5cc8ca965"
    },
    {
      "cell_type": "code",
      "execution_count": 3,
      "metadata": {
        "template": "student"
      },
      "outputs": [],
      "source": [
        "# Apply NDVI threshold"
      ],
      "id": "fc3d4f3b"
    },
    {
      "cell_type": "markdown",
      "metadata": {},
      "source": [
        "Now, add up the number of pixels with healthy vegetation plot that over\n",
        "time."
      ],
      "id": "def68081-8630-4c7e-8549-799d8e942118"
    },
    {
      "cell_type": "code",
      "execution_count": 5,
      "metadata": {
        "template": "student"
      },
      "outputs": [],
      "source": [
        "# Plot difference inside and outside the boundary"
      ],
      "id": "6856590a"
    },
    {
      "cell_type": "markdown",
      "metadata": {},
      "source": [
        "Finally, plot your `DataFrame`. What do you observe? Don’t forget to\n",
        "write a headline and description of your plot!"
      ],
      "id": "217ac884-1d22-4bc5-9e1d-71abd4cad3a0"
    },
    {
      "cell_type": "code",
      "execution_count": 7,
      "metadata": {
        "template": "student"
      },
      "outputs": [],
      "source": [
        "# Plot number of vegetated pixels over time"
      ],
      "id": "e121910b"
    }
  ],
  "nbformat": 4,
  "nbformat_minor": 5,
  "metadata": {
    "kernelspec": {
      "name": "learning-portal",
      "display_name": "Learning Portal",
      "language": "python"
    },
    "language_info": {
      "name": "python",
      "codemirror_mode": {
        "name": "ipython",
        "version": "3"
      },
      "file_extension": ".py",
      "mimetype": "text/x-python",
      "nbconvert_exporter": "python",
      "pygments_lexer": "ipython3",
      "version": "3.11.13"
    }
  }
}