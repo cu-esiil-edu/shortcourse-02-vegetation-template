{
  "cells": [
    {
      "cell_type": "markdown",
      "metadata": {},
      "source": [
        "# Water Rights Restored to the Gila River\n",
        "\n",
        "The impacts of irrigation on vegetation health in the Gila River Valley\n",
        "\n",
        "Elsa Culler  \n",
        "Nate Quarderer  \n",
        "2025-07-09\n",
        "\n",
        "# STEP 1: Site map\n",
        "\n",
        "# STEP 0: Set up\n",
        "\n",
        "To get started on this notebook, you’ll need to restore any variables\n",
        "from previous notebooks to your workspace. To save time and memory, make\n",
        "sure to specify which variables you want to load."
      ],
      "id": "741bfe27-1cf9-4316-a0ed-1b227725a26a"
    },
    {
      "cell_type": "code",
      "execution_count": 1,
      "metadata": {},
      "outputs": [],
      "source": [
        "%store -r"
      ],
      "id": "068bf153"
    },
    {
      "cell_type": "markdown",
      "metadata": {},
      "source": [
        "You will also need to import any libraries you are using in this\n",
        "notebook, since they won’t carry over from the previous notebook:"
      ],
      "id": "0d21c57d-1681-4306-8298-5d92db7d1920"
    },
    {
      "cell_type": "code",
      "execution_count": 2,
      "metadata": {},
      "outputs": [],
      "source": [
        "# Import libraries"
      ],
      "id": "fb5d5368"
    },
    {
      "cell_type": "markdown",
      "metadata": {},
      "source": [
        "## Study Area: Al Jawf Region Saudi Arabia\n",
        "\n",
        "<link rel=\"stylesheet\" type=\"text/css\" href=\"./assets/styles.css\"><div class=\"callout callout-style-default callout-titled callout-respond\"><div class=\"callout-header\"><div class=\"callout-icon-container\"><i class=\"callout-icon\"></i></div><div class=\"callout-title-container flex-fill\">Reflect and Respond</div></div><div class=\"callout-body-container callout-body\"><p>For this coding challenge, we are interested in the boundary of the\n",
        "<span data-__quarto_custom=\"true\" data-__quarto_custom_type=\"Shortcode\"\n",
        "data-__quarto_custom_context=\"Inline\"\n",
        "data-__quarto_custom_id=\"2\"></span>, and the health of vegetation in the\n",
        "area measured on a scale from -1 to 1. In the cell below, answer the\n",
        "following question: <strong>What data type do you think the boundary\n",
        "will be? What about the vegetation health?</strong></p></div></div>"
      ],
      "id": "38b513bf-8128-41bf-8337-4ddc56013fd1"
    },
    {
      "cell_type": "markdown",
      "metadata": {},
      "source": [
        "YOUR ANSWER HERE"
      ],
      "id": "50938163-2470-47db-bc45-d1afa5917845"
    },
    {
      "cell_type": "markdown",
      "metadata": {},
      "source": [
        "### Load the Al Jawf Region Saudi Arabia boundary\n",
        "\n",
        "<link rel=\"stylesheet\" type=\"text/css\" href=\"./assets/styles.css\"><div class=\"callout callout-style-default callout-titled callout-task\"><div class=\"callout-header\"><div class=\"callout-icon-container\"><i class=\"callout-icon\"></i></div><div class=\"callout-title-container flex-fill\">Try It</div></div><div class=\"callout-body-container callout-body\"><ul>\n",
        "<li>Locate the boundary files in your download directory</li>\n",
        "<li>Change <code>'boundary-directory'</code> to the actual location</li>\n",
        "<li>Load the data into Python and check that it worked</li>\n",
        "</ul></div></div>"
      ],
      "id": "419567db-41f5-498c-8b78-5cb3d4f92ed6"
    },
    {
      "cell_type": "code",
      "execution_count": 3,
      "metadata": {
        "template": "student"
      },
      "outputs": [],
      "source": [
        "# Load in the boundary data\n",
        "boundary_gdf = gpd.read_file(\n",
        "    project.project_dir / 'boundary-directory')\n",
        "# Check that it worked"
      ],
      "id": "2aa5258e"
    },
    {
      "cell_type": "code",
      "execution_count": 5,
      "metadata": {
        "template": "student"
      },
      "outputs": [],
      "source": [
        "# Plot the results with web tile images\n",
        "boundary_gdf.hvplot()"
      ],
      "id": "958b3309"
    },
    {
      "cell_type": "markdown",
      "metadata": {},
      "source": [
        "# STEP -1: Wrap up\n",
        "\n",
        "Don’t forget to store your variables so you can use them in other\n",
        "notebooks! Replace `var1` and `var2` with the variable you want to save,\n",
        "separated by spaces."
      ],
      "id": "e8be11c7-eb47-4803-8216-817da0376787"
    },
    {
      "cell_type": "code",
      "execution_count": 7,
      "metadata": {},
      "outputs": [],
      "source": [
        "%store var1 var2"
      ],
      "id": "0bef6075"
    },
    {
      "cell_type": "markdown",
      "metadata": {},
      "source": [
        "Finally, be sure to `Restart` and `Run all` to make sure your notebook\n",
        "works all the way through!"
      ],
      "id": "2c476670-6cfd-4c07-ba04-c7185b638fbe"
    }
  ],
  "nbformat": 4,
  "nbformat_minor": 5,
  "metadata": {
    "kernelspec": {
      "name": "learning-portal",
      "display_name": "Learning Portal",
      "language": "python"
    },
    "language_info": {
      "name": "python",
      "codemirror_mode": {
        "name": "ipython",
        "version": "3"
      },
      "file_extension": ".py",
      "mimetype": "text/x-python",
      "nbconvert_exporter": "python",
      "pygments_lexer": "ipython3",
      "version": "3.11.13"
    }
  }
}