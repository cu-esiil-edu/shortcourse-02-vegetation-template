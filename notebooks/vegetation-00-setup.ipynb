{
  "cells": [
    {
      "cell_type": "markdown",
      "metadata": {},
      "source": [
        "# Water Rights Restored to the Gila River\n",
        "\n",
        "The impacts of irrigation on vegetation health in the Gila River Valley\n",
        "\n",
        "Elsa Culler  \n",
        "Nate Quarderer  \n",
        "2025-07-09\n",
        "\n",
        "# STEP 0: Set up\n",
        "\n",
        "To get started on this notebook, you’ll need to restore any variables\n",
        "from previous notebooks to your workspace. To save time and memory, make\n",
        "sure to specify which variables you want to load."
      ],
      "id": "50db47e2-6156-42fc-806f-6a16010f60d6"
    },
    {
      "cell_type": "code",
      "execution_count": 1,
      "metadata": {},
      "outputs": [],
      "source": [
        "%store -r"
      ],
      "id": "398b218c"
    },
    {
      "cell_type": "markdown",
      "metadata": {},
      "source": [
        "You will also need to import any libraries you are using in this\n",
        "notebook, since they won’t carry over from the previous notebook:"
      ],
      "id": "3caa7e1e-9849-4a27-ba1a-209720f0656a"
    },
    {
      "cell_type": "code",
      "execution_count": 2,
      "metadata": {},
      "outputs": [],
      "source": [
        "# Import libraries"
      ],
      "id": "653dede7"
    },
    {
      "cell_type": "markdown",
      "metadata": {},
      "source": [
        "## Import libraries\n",
        "\n",
        "We’ll need some Python libraries to complete this workflow.\n",
        "\n",
        "<link rel=\"stylesheet\" type=\"text/css\" href=\"./assets/styles.css\"><div class=\"callout callout-style-default callout-titled callout-task\"><div class=\"callout-header\"><div class=\"callout-icon-container\"><i class=\"callout-icon\"></i></div><div class=\"callout-title-container flex-fill\">Try It: Import necessary libraries</div></div><div class=\"callout-body-container callout-body\"><p>In the cell below, making sure to keep the packages in order, add\n",
        "packages for:</p>\n",
        "<ul>\n",
        "<li>Working with DataFrames</li>\n",
        "<li>Working with GeoDataFrames</li>\n",
        "<li>Making interactive plots of tabular and vector data</li>\n",
        "</ul></div></div>\n",
        "\n",
        "<link rel=\"stylesheet\" type=\"text/css\" href=\"./assets/styles.css\"><div class=\"callout callout-style-default callout-titled callout-respond\"><div class=\"callout-header\"><div class=\"callout-icon-container\"><i class=\"callout-icon\"></i></div><div class=\"callout-title-container flex-fill\">Reflect and Respond</div></div><div class=\"callout-body-container callout-body\"><p>What are we using the rest of these packages for? See if you can\n",
        "figure it out as you complete the notebook.</p></div></div>"
      ],
      "id": "e09e1256-76dc-4b7f-8c74-adf882766658"
    },
    {
      "cell_type": "code",
      "execution_count": 3,
      "metadata": {
        "template": "student"
      },
      "outputs": [],
      "source": [
        "import json\n",
        "from glob import glob\n",
        "\n",
        "import earthpy\n",
        "import hvplot.xarray\n",
        "import rioxarray as rxr\n",
        "import xarray as xr"
      ],
      "id": "a98a943f"
    },
    {
      "cell_type": "markdown",
      "metadata": {},
      "source": [
        "## Download sample data\n",
        "\n",
        "In this analysis, you’ll need to download multiple data files to your\n",
        "computer rather than streaming them from the web. You’ll need to set up\n",
        "a folder for the files, and while you’re at it download the sample data\n",
        "there.\n",
        "\n",
        "> **GOTCHA ALERT!**\n",
        ">\n",
        "> A lot of times in Python we say “directory” to mean a “folder” on your\n",
        "> computer. The two words mean the same thing in this context.\n",
        "\n",
        "<link rel=\"stylesheet\" type=\"text/css\" href=\"./assets/styles.css\"><div class=\"callout callout-style-default callout-titled callout-task\"><div class=\"callout-header\"><div class=\"callout-icon-container\"><i class=\"callout-icon\"></i></div><div class=\"callout-title-container flex-fill\">Try It</div></div><div class=\"callout-body-container callout-body\"><p>In the cell below, replace ‘Project Name’ with ‘<span\n",
        "data-__quarto_custom=\"true\" data-__quarto_custom_type=\"Shortcode\"\n",
        "data-__quarto_custom_context=\"Inline\"\n",
        "data-__quarto_custom_id=\"3\"></span> and ’my-data-folder’ with a\n",
        "<strong>descriptive</strong> directory name.</p></div></div>"
      ],
      "id": "c28acbf0-f17d-431f-8b7b-f627ba9a66c1"
    },
    {
      "cell_type": "code",
      "execution_count": 5,
      "metadata": {
        "template": "student"
      },
      "outputs": [],
      "source": [
        "project = earthpy.Project(\n",
        "    'Project Name, dirname='my-data-folder')\n",
        "project.get_data()"
      ],
      "id": "c7b77e5c"
    },
    {
      "cell_type": "markdown",
      "metadata": {},
      "source": [
        "# STEP -1: Wrap up\n",
        "\n",
        "Don’t forget to store your variables so you can use them in other\n",
        "notebooks! Replace `var1` and `var2` with the variable you want to save,\n",
        "separated by spaces."
      ],
      "id": "c22f0765-c532-4973-9bc9-c0a01d3a430b"
    },
    {
      "cell_type": "code",
      "execution_count": 7,
      "metadata": {},
      "outputs": [],
      "source": [
        "%store var1 var2"
      ],
      "id": "c8d72fe3"
    },
    {
      "cell_type": "markdown",
      "metadata": {},
      "source": [
        "Finally, be sure to `Restart` and `Run all` to make sure your notebook\n",
        "works all the way through!"
      ],
      "id": "b67edb21-141a-4860-8b26-bc24bc83d75d"
    }
  ],
  "nbformat": 4,
  "nbformat_minor": 5,
  "metadata": {
    "kernelspec": {
      "name": "learning-portal",
      "display_name": "Learning Portal",
      "language": "python"
    },
    "language_info": {
      "name": "python",
      "codemirror_mode": {
        "name": "ipython",
        "version": "3"
      },
      "file_extension": ".py",
      "mimetype": "text/x-python",
      "nbconvert_exporter": "python",
      "pygments_lexer": "ipython3",
      "version": "3.11.13"
    }
  }
}